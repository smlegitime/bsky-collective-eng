{
 "cells": [
  {
   "cell_type": "code",
   "execution_count": 1,
   "id": "1e0b6e39",
   "metadata": {},
   "outputs": [],
   "source": [
    "from dotenv import load_dotenv\n",
    "_ = load_dotenv()"
   ]
  },
  {
   "cell_type": "markdown",
   "id": "cce29900",
   "metadata": {},
   "source": [
    "Research agent"
   ]
  },
  {
   "cell_type": "code",
   "execution_count": 2,
   "id": "bb3a5bd7",
   "metadata": {},
   "outputs": [
    {
     "name": "stdout",
     "output_type": "stream",
     "text": [
      "Umaro Mokhtar Sissoco Embaló (born 23 September 1972) is a Bissau-Guinean politician serving as the president of Guinea-Bissau since February 2020.\n"
     ]
    }
   ],
   "source": [
    "from langchain_tavily import TavilySearch\n",
    "\n",
    "# Search tool\n",
    "web_search = TavilySearch(max_results=3)\n",
    "web_search_results = web_search.invoke('who is the president of guinea-bissau?')\n",
    "\n",
    "print(web_search_results['results'][0]['content'])"
   ]
  },
  {
   "cell_type": "code",
   "execution_count": 3,
   "id": "71c9fe1a",
   "metadata": {},
   "outputs": [
    {
     "data": {
      "text/plain": [
       "{'query': 'who is the president of guinea-bissau?',\n",
       " 'follow_up_questions': None,\n",
       " 'answer': None,\n",
       " 'images': [],\n",
       " 'results': [{'url': 'https://en.wikipedia.org/wiki/Umaro_Sissoco_Embal%C3%B3',\n",
       "   'title': 'Umaro Sissoco Embaló - Wikipedia',\n",
       "   'content': 'Umaro Mokhtar Sissoco Embaló (born 23 September 1972) is a Bissau-Guinean politician serving as the president of Guinea-Bissau since February 2020.',\n",
       "   'score': 0.91362286,\n",
       "   'raw_content': None},\n",
       "  {'url': 'https://en.wikipedia.org/wiki/List_of_presidents_of_Guinea-Bissau',\n",
       "   'title': 'List of presidents of Guinea-Bissau - Wikipedia',\n",
       "   'content': 'The current holder of the office is Umaro Sissoco Embaló, who took office on 27 February 2020 after being elected in the 2019 presidential election. Contents.',\n",
       "   'score': 0.9061314,\n",
       "   'raw_content': None},\n",
       "  {'url': 'https://www.atlanticcouncil.org/blogs/new-atlanticist/guinea-bissaus-president-on-his-meeting-with-trump-relations-with-russia-and-china-and-whether-he-will-accept-us-deportees/',\n",
       "   'title': \"Guinea-Bissau's president on his meeting with Trump, relations with ...\",\n",
       "   'content': 'Public Event Thu, July 10, 2025 • 9:00 am ET #### President Umaro Sissoco Embaló on the future of US-Africa trade and security AN #ACFRONTPAGE EVENT—President Umaro Sissoco Embaló of Guinea-Bissau joins the Atlantic Council while he is in Washington, DC for a summit between West African leaders and US President Donald Trump. Embaló spoke Thursday at an Atlantic Council Front Page event hosted by the Africa Center, following a meeting with US President Donald Trump and four other African presidents—representing Senegal, Liberia, Gabon, and Mauritania—at the White House on Wednesday. *   Embaló said Trump’s proposal to have select African countries take in migrants from other countries that the United States wishes to deport would violate Guinea-Bissau’s own policies.',\n",
       "   'score': 0.8539252,\n",
       "   'raw_content': None}],\n",
       " 'response_time': 1.25}"
      ]
     },
     "execution_count": 3,
     "metadata": {},
     "output_type": "execute_result"
    }
   ],
   "source": [
    "web_search_results"
   ]
  },
  {
   "cell_type": "code",
   "execution_count": 4,
   "id": "bf4c35fc",
   "metadata": {},
   "outputs": [],
   "source": [
    "# Retriever\n",
    "from utils import load_docs, split_code, create_retriever # defined in utils.py file\n",
    "from langchain_text_splitters import Language\n",
    "from langchain.tools.retriever import create_retriever_tool\n",
    "from langchain_core.tools import tool\n",
    "\n",
    "from langchain_core.vectorstores import InMemoryVectorStore\n",
    "from langchain_ollama import OllamaEmbeddings\n",
    "\n",
    "SOURCE_CODE_PATH = './data/labeler-starter-kit-bsky-main/src'\n",
    "FILE_EXTS = [\".ts\"]\n",
    "LANG = Language.TS\n",
    "\n",
    "def create_vector_store(src_path, file_extensions, lang):\n",
    "    \"\"\"Searches information from .ts documents stored in memory vector DB\"\"\"\n",
    "    docs = load_docs(src_path, file_extensions)\n",
    "    split_docs = split_code(docs, lang)\n",
    "    embeddings = OllamaEmbeddings(model='llama3.2')\n",
    "    \n",
    "    vector_store = InMemoryVectorStore(embeddings)\n",
    "    _ = vector_store.add_documents(split_docs)\n",
    "    return vector_store\n",
    "\n",
    "vs = create_vector_store(SOURCE_CODE_PATH, FILE_EXTS, LANG)\n",
    "\n",
    "from langchain_core.tools import tool\n",
    "\n",
    "@tool(response_format='content_and_artifact')\n",
    "def retrieve_from_local(query):\n",
    "    \"\"\"Retrieve information related to a query\"\"\"\n",
    "    retrieved_docs = vs.similarity_search(query, k=2)\n",
    "    serialized = \"\\n\\n\".join(\n",
    "        (f\"Source: {doc.metadata}\\nContent: {doc.page_content}\")\n",
    "        for doc in retrieved_docs\n",
    "    )\n",
    "    return serialized, retrieved_docs"
   ]
  },
  {
   "cell_type": "code",
   "execution_count": 5,
   "id": "b03b778d",
   "metadata": {},
   "outputs": [],
   "source": [
    "from langgraph.prebuilt import create_react_agent\n",
    "\n",
    "research_agent = create_react_agent(\n",
    "    model='openai:gpt-4.1',\n",
    "    tools=[web_search, retrieve_from_local],\n",
    "    prompt=(\n",
    "        \"You are a research agent.\\n\\n\"\n",
    "        \"INSTRUCTIONS:\\n\"\n",
    "        \"- Assist ONLY with research-related tasks, DO NOT generate any code\\n\"\n",
    "        \"- After you're done with your tasks, respond to the supervisor directly\\n\"\n",
    "        \"- Respond ONLY with the results of your work, do NOT include ANY other text.\"\n",
    "    ),\n",
    "    name='research_agent'\n",
    ")"
   ]
  },
  {
   "cell_type": "markdown",
   "id": "80546d74",
   "metadata": {},
   "source": [
    "Pretty-print functionality"
   ]
  },
  {
   "cell_type": "code",
   "execution_count": 6,
   "id": "36273c8e",
   "metadata": {},
   "outputs": [],
   "source": [
    "from langchain_core.messages import convert_to_messages\n",
    "\n",
    "\n",
    "def pretty_print_message(message, indent=False):\n",
    "    pretty_message = message.pretty_repr(html=True)\n",
    "    if not indent:\n",
    "        print(pretty_message)\n",
    "        return\n",
    "\n",
    "    indented = \"\\n\".join(\"\\t\" + c for c in pretty_message.split(\"\\n\"))\n",
    "    print(indented)\n",
    "\n",
    "\n",
    "def pretty_print_messages(update, last_message=False):\n",
    "    is_subgraph = False\n",
    "    if isinstance(update, tuple):\n",
    "        ns, update = update\n",
    "        # skip parent graph updates in the printouts\n",
    "        if len(ns) == 0:\n",
    "            return\n",
    "\n",
    "        graph_id = ns[-1].split(\":\")[0]\n",
    "        print(f\"Update from subgraph {graph_id}:\")\n",
    "        print(\"\\n\")\n",
    "        is_subgraph = True\n",
    "\n",
    "    for node_name, node_update in update.items():\n",
    "        update_label = f\"Update from node {node_name}:\"\n",
    "        if is_subgraph:\n",
    "            update_label = \"\\t\" + update_label\n",
    "\n",
    "        print(update_label)\n",
    "        print(\"\\n\")\n",
    "\n",
    "        messages = convert_to_messages(node_update[\"messages\"])\n",
    "        if last_message:\n",
    "            messages = messages[-1:]\n",
    "\n",
    "        for m in messages:\n",
    "            pretty_print_message(m, indent=is_subgraph)\n",
    "        print(\"\\n\")"
   ]
  },
  {
   "cell_type": "code",
   "execution_count": 7,
   "id": "8bb2402f",
   "metadata": {},
   "outputs": [
    {
     "name": "stdout",
     "output_type": "stream",
     "text": [
      "Update from node agent:\n",
      "\n",
      "\n",
      "==================================\u001b[1m Ai Message \u001b[0m==================================\n",
      "Name: research_agent\n",
      "Tool Calls:\n",
      "  tavily_search (call_TtFVBwfIbuPs1uFZKZHACTwO)\n",
      " Call ID: call_TtFVBwfIbuPs1uFZKZHACTwO\n",
      "  Args:\n",
      "    query: current president of Guinea-Bissau\n",
      "\n",
      "\n",
      "Update from node tools:\n",
      "\n",
      "\n",
      "=================================\u001b[1m Tool Message \u001b[0m=================================\n",
      "Name: tavily_search\n",
      "\n",
      "{\"query\": \"current president of Guinea-Bissau\", \"follow_up_questions\": null, \"answer\": null, \"images\": [], \"results\": [{\"url\": \"https://www.consuladoguineabissaumalaga.com/en/The-President/\", \"title\": \"The President\", \"content\": \"The current President of the Republic of Guinea-Bissau is His Excellency General Umaro Sissoco Embalo. President Umaro is a political scientist,\", \"score\": 0.94726914, \"raw_content\": null}, {\"url\": \"https://en.wikipedia.org/wiki/List_of_presidents_of_Guinea-Bissau\", \"title\": \"List of presidents of Guinea-Bissau - Wikipedia\", \"content\": \"There have been six presidents, five acting presidents and three interim military leaders. The current holder of the office is Umaro Sissoco Embaló.\", \"score\": 0.9108078, \"raw_content\": null}, {\"url\": \"https://www.atlanticcouncil.org/blogs/new-atlanticist/guinea-bissaus-president-on-his-meeting-with-trump-relations-with-russia-and-china-and-whether-he-will-accept-us-deportees/\", \"title\": \"Guinea-Bissau's president on his meeting with Trump, relations with ...\", \"content\": \"Image: Guinea-Bissau's President Umaro Sissoco attends a lunch for African representatives of Gabon, Guinea-Bissau, Liberia, Mauritania, and\", \"score\": 0.82082915, \"raw_content\": null}], \"response_time\": 1.53}\n",
      "\n",
      "\n",
      "Update from node agent:\n",
      "\n",
      "\n",
      "==================================\u001b[1m Ai Message \u001b[0m==================================\n",
      "Name: research_agent\n",
      "\n",
      "The current President of Guinea-Bissau is Umaro Sissoco Embaló.\n",
      "\n",
      "\n"
     ]
    }
   ],
   "source": [
    "# Test\n",
    "for chunk in research_agent.stream(\n",
    "    {'messages': [{'role': 'user', 'content': 'who is the president of guinea-bissau?'}]}\n",
    "):\n",
    "    pretty_print_messages(chunk)"
   ]
  },
  {
   "cell_type": "markdown",
   "id": "643a2483",
   "metadata": {},
   "source": [
    "Code Generation Agent"
   ]
  },
  {
   "cell_type": "code",
   "execution_count": 8,
   "id": "7311d67e",
   "metadata": {},
   "outputs": [],
   "source": [
    "from pydantic import BaseModel, Field\n",
    "\n",
    "class Code(BaseModel):\n",
    "    \"\"\"Schema for code solutions from the coding assistant\"\"\"\n",
    "    prefix: str = Field(description='Description of the problem and approach')\n",
    "    imports: str = Field(description='Code Block import statements')\n",
    "    code: str = Field(description='Code block not including import statements')"
   ]
  },
  {
   "cell_type": "code",
   "execution_count": 9,
   "id": "d9f1ffb1",
   "metadata": {},
   "outputs": [],
   "source": [
    "# Create code generation chain\n",
    "from langchain_core.prompts import ChatPromptTemplate\n",
    "from langchain_openai import ChatOpenAI\n",
    "\n",
    "from data.prompts import CODE_GEN_SYSTEM\n",
    "code_system_prompt = ChatPromptTemplate.from_messages(\n",
    "    [\n",
    "        ('system', CODE_GEN_SYSTEM),\n",
    "        ('placeholder', '{messages}')\n",
    "    ]\n",
    ")\n",
    "\n",
    "llm = ChatOpenAI(model='gpt-4.1')\n",
    "code_agent_chain = code_system_prompt | llm.with_structured_output(Code)"
   ]
  },
  {
   "cell_type": "code",
   "execution_count": 10,
   "id": "4ffaeaf3",
   "metadata": {},
   "outputs": [],
   "source": [
    "from langchain_core.messages import HumanMessage\n",
    "\n",
    "res = code_agent_chain.invoke(\n",
    "    {'messages':[HumanMessage(content='Create a function that computes the fibonacci sequence')]}\n",
    "    )"
   ]
  },
  {
   "cell_type": "code",
   "execution_count": 11,
   "id": "5d70047d",
   "metadata": {},
   "outputs": [
    {
     "name": "stdout",
     "output_type": "stream",
     "text": [
      "prefix='This solution defines a TypeScript function to compute the Fibonacci sequence up to a specified number of elements. It uses an iterative approach for performance and clarity. The function returns an array containing the sequence.' imports='// No external imports required' code='/**\\n * Computes the Fibonacci sequence up to a given length.\\n * @param n Number of Fibonacci numbers to compute (n >= 0)\\n * @returns Array of Fibonacci numbers\\n */\\nexport function fibonacciSequence(n: number): number[] {\\n  if (n <= 0) return [];\\n  if (n === 1) return [0];\\n  const sequence: number[] = [0, 1];\\n  for (let i = 2; i < n; i++) {\\n    sequence.push(sequence[i - 1] + sequence[i - 2]);\\n  }\\n  return sequence;\\n}\\n\\n// Example usage:\\n// fibonacciSequence(7) => [0, 1, 1, 2, 3, 5, 8]'\n"
     ]
    }
   ],
   "source": [
    "print(res)"
   ]
  },
  {
   "cell_type": "code",
   "execution_count": 12,
   "id": "09d071ac",
   "metadata": {},
   "outputs": [],
   "source": [
    "def generate_code(query):\n",
    "    \"\"\"Function to call the code generation LLM chain\"\"\"\n",
    "    code_solution = code_agent_chain.invoke({'messages':[HumanMessage(content=query)]})\n",
    "    return code_solution"
   ]
  },
  {
   "cell_type": "code",
   "execution_count": 13,
   "id": "00367a20",
   "metadata": {},
   "outputs": [],
   "source": [
    "coding_agent = create_react_agent(\n",
    "    model='openai:gpt-4.1',\n",
    "    tools=[generate_code],\n",
    "    prompt=(\n",
    "        \"You are a coding agent.\\n\\n\"\n",
    "        \"INSTRUCTIONS:\\n\"\n",
    "        \"- Assist ONLY with coding-related tasks in TypeScript\\n\"\n",
    "        \"- After you're done with your tasks, respond to the supervisor directly\\n\"\n",
    "        \"- Respond ONLY with the results of your work, do NOT include ANY other text.\"\n",
    "    ),\n",
    "    name='coding_agent'\n",
    ")"
   ]
  },
  {
   "cell_type": "code",
   "execution_count": 14,
   "id": "ce1e23c8",
   "metadata": {},
   "outputs": [
    {
     "name": "stdout",
     "output_type": "stream",
     "text": [
      "Update from node agent:\n",
      "\n",
      "\n",
      "==================================\u001b[1m Ai Message \u001b[0m==================================\n",
      "Name: coding_agent\n",
      "Tool Calls:\n",
      "  generate_code (call_y5NtxUnDPcQr0d0aOpaPxYec)\n",
      " Call ID: call_y5NtxUnDPcQr0d0aOpaPxYec\n",
      "  Args:\n",
      "    query: Create a TypeScript function that computes the Fibonacci sequence\n",
      "\n",
      "\n",
      "Update from node tools:\n",
      "\n",
      "\n",
      "=================================\u001b[1m Tool Message \u001b[0m=================================\n",
      "Name: generate_code\n",
      "\n",
      "prefix='This solution defines a simple TypeScript function to compute the nth Fibonacci number. It uses an iterative approach for efficiency and includes type annotations. The function throws an error for invalid input (negative numbers).' imports='// No imports needed for this example.' code=\"/**\\n * Computes the nth Fibonacci number (0-indexed).\\n * @param n - Index in the Fibonacci sequence (must be >= 0)\\n * @returns The nth Fibonacci number\\n */\\nexport function fibonacci(n: number): number {\\n  if (!Number.isInteger(n) || n < 0) {\\n    throw new Error('Input must be a non-negative integer');\\n  }\\n  if (n === 0) return 0;\\n  if (n === 1) return 1;\\n  let a = 0, b = 1;\\n  for (let i = 2; i <= n; i++) {\\n    const temp = a + b;\\n    a = b;\\n    b = temp;\\n  }\\n  return b;\\n}\\n// Example usage:\\n// console.log(fibonacci(10)); // Outputs 55\"\n",
      "\n",
      "\n",
      "Update from node agent:\n",
      "\n",
      "\n",
      "==================================\u001b[1m Ai Message \u001b[0m==================================\n",
      "Name: coding_agent\n",
      "\n",
      "/**\n",
      " * Computes the nth Fibonacci number (0-indexed).\n",
      " * @param n - Index in the Fibonacci sequence (must be >= 0)\n",
      " * @returns The nth Fibonacci number\n",
      " */\n",
      "export function fibonacci(n: number): number {\n",
      "  if (!Number.isInteger(n) || n < 0) {\n",
      "    throw new Error('Input must be a non-negative integer');\n",
      "  }\n",
      "  if (n === 0) return 0;\n",
      "  if (n === 1) return 1;\n",
      "  let a = 0, b = 1;\n",
      "  for (let i = 2; i <= n; i++) {\n",
      "    const temp = a + b;\n",
      "    a = b;\n",
      "    b = temp;\n",
      "  }\n",
      "  return b;\n",
      "}\n",
      "// Example usage:\n",
      "// console.log(fibonacci(10)); // Outputs 55\n",
      "\n",
      "\n"
     ]
    }
   ],
   "source": [
    "for chunk in coding_agent.stream(\n",
    "    {'messages': [{'role': 'user', 'content': 'Create a function that computes the fibonacci sequence'}]}\n",
    "):\n",
    "    pretty_print_messages(chunk)"
   ]
  },
  {
   "cell_type": "markdown",
   "id": "9a134623",
   "metadata": {},
   "source": [
    "### Supervisor agent"
   ]
  },
  {
   "cell_type": "code",
   "execution_count": 15,
   "id": "250e043e",
   "metadata": {},
   "outputs": [],
   "source": [
    "from langgraph_supervisor import create_supervisor\n",
    "from langchain.chat_models import init_chat_model\n",
    "\n",
    "supervisor = create_supervisor(\n",
    "    model=init_chat_model('openai:gpt-4.1'),\n",
    "    agents=[research_agent, coding_agent],\n",
    "    prompt=(\n",
    "        \"You are a supervisor managing two agents:\\n\"\n",
    "        \"- a research agent. Assign research-related tasks to this agent\\n\"\n",
    "        \"- a coding agent. Assign coding-related tasks to this agent\\n\"\n",
    "        \"Assign work to one agent at a time, do not call agents in parallel.\\n\"\n",
    "        \"Do not do any work yourself.\"\n",
    "    ),\n",
    "    add_handoff_back_messages=True,\n",
    "    output_mode='full_history'\n",
    ").compile()"
   ]
  },
  {
   "cell_type": "code",
   "execution_count": 16,
   "id": "3a87cad2",
   "metadata": {},
   "outputs": [
    {
     "data": {
      "image/png": "[encoded data removed]",
      "text/plain": [
       "<IPython.core.display.Image object>"
      ]
     },
     "metadata": {},
     "output_type": "display_data"
    }
   ],
   "source": [
    "from IPython.display import display, Image\n",
    "\n",
    "display(Image(supervisor.get_graph().draw_mermaid_png()))"
   ]
  }
 ],
 "metadata": {
  "kernelspec": {
   "display_name": "ml",
   "language": "python",
   "name": "python3"
  },
  "language_info": {
   "codemirror_mode": {
    "name": "ipython",
    "version": 3
   },
   "file_extension": ".py",
   "mimetype": "text/x-python",
   "name": "python",
   "nbconvert_exporter": "python",
   "pygments_lexer": "ipython3",
   "version": "3.12.0"
  }
 },
 "nbformat": 4,
 "nbformat_minor": 5
}
