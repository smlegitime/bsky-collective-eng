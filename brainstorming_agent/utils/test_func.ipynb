{
 "cells": [
  {
   "cell_type": "code",
   "execution_count": 1,
   "id": "99fe4a0b",
   "metadata": {},
   "outputs": [
    {
     "name": "stderr",
     "output_type": "stream",
     "text": [
      "USER_AGENT environment variable not set, consider setting it to identify your requests.\n"
     ]
    }
   ],
   "source": [
    "import json\n",
    "from langchain_community.document_loaders import WebBaseLoader\n",
    "from langchain_text_splitters import RecursiveCharacterTextSplitter\n",
    "from langchain_core.vectorstores import InMemoryVectorStore\n",
    "from langchain_openai import OpenAIEmbeddings"
   ]
  },
  {
   "cell_type": "code",
   "execution_count": 2,
   "id": "38a4f9fc",
   "metadata": {},
   "outputs": [],
   "source": [
    "RETRIEVAL_SOURCES_PATH = '../data/retrieval_sources.json'\n",
    "\n",
    "def _get_src_urls(src_path: str = RETRIEVAL_SOURCES_PATH):\n",
    "    with open(src_path) as retrieval_src_file:\n",
    "        retrieval_srcs = json.load(retrieval_src_file)\n",
    "        urls = retrieval_srcs['bsky'] + retrieval_srcs['skyware']\n",
    "        return urls"
   ]
  },
  {
   "cell_type": "code",
   "execution_count": 4,
   "id": "67552826",
   "metadata": {},
   "outputs": [
    {
     "name": "stdout",
     "output_type": "stream",
     "text": [
      "The AT Protocol | Bluesky\n",
      "\n",
      "\n",
      "\n",
      "\n",
      "\n",
      "\n",
      "Skip to main contentBlueskyDocsBlogShowcaseGitHubSearchGet StartedTutorialsStarter TemplatesAdvanced GuidesThe AT ProtocolFederation ArchitectureLinks, mentions, and rich textRate LimitsLabels and moderationPostsTimestampsFirehoseResolving IdentitiesCustom SchemasBackfilling the NetworkRead-After-WriteService AuthPDS EntrywayoEmbed and Post Embed WidgetAction Intent LinksOAuth Client ImplementationAPI Hosts and AuthHTTP ReferenceSupportAdvanced GuidesThe AT ProtocolOn this pageThe AT Protocol\n",
      "The AT Protocol (Authenticated Transfer Protocol, or atproto) is a standard for public conversation and an open-source framework for building social apps.\n",
      "It creates a standard format for user identity, follows, and data on social apps, allowing apps to interoperate and users to move across them freely. It is a federated network with account portability.\n",
      "Basic Concepts​\n",
      "Identity​\n",
      "Users are identified by domain names on the AT Protocol. These domains map to cryptogra\n"
     ]
    }
   ],
   "source": [
    "urls = _get_src_urls()\n",
    "docs = [WebBaseLoader(url).load() for url in urls]\n",
    "\n",
    "print(docs[0][0].page_content.strip()[:1000])"
   ]
  },
  {
   "cell_type": "code",
   "execution_count": 6,
   "id": "b232ad9f",
   "metadata": {},
   "outputs": [],
   "source": [
    "docs_list = [item for sublist in docs for item in sublist]\n",
    "text_splitter = RecursiveCharacterTextSplitter.from_tiktoken_encoder(\n",
    "    chunk_size=100,\n",
    "    chunk_overlap=50\n",
    ")\n",
    "doc_splits = text_splitter.split_documents(docs_list)"
   ]
  },
  {
   "cell_type": "code",
   "execution_count": 7,
   "id": "f50a44f2",
   "metadata": {},
   "outputs": [
    {
     "data": {
      "text/plain": [
       "'The AT Protocol | Bluesky'"
      ]
     },
     "execution_count": 7,
     "metadata": {},
     "output_type": "execute_result"
    }
   ],
   "source": [
    "doc_splits[0].page_content.strip()"
   ]
  },
  {
   "cell_type": "code",
   "execution_count": 8,
   "id": "e08babf1",
   "metadata": {},
   "outputs": [],
   "source": [
    "vectorstore = InMemoryVectorStore.from_documents(\n",
    "    documents=doc_splits,\n",
    "    embedding=OpenAIEmbeddings()\n",
    ")\n",
    "retriever = vectorstore.as_retriever()"
   ]
  },
  {
   "cell_type": "code",
   "execution_count": 10,
   "id": "cafdd702",
   "metadata": {},
   "outputs": [],
   "source": [
    "from langchain.tools.retriever import create_retriever_tool\n",
    "\n",
    "retriever_tool = create_retriever_tool(\n",
    "    retriever,\n",
    "    \"retrieve_bsky_docs\",\n",
    "    \"Search and return information about the Bluesky social app and Bluesky labelers.\",\n",
    ")"
   ]
  },
  {
   "cell_type": "code",
   "execution_count": 11,
   "id": "8dbc4dec",
   "metadata": {},
   "outputs": [
    {
     "data": {
      "text/plain": [
       "'Some examples of the definitions you might use for a label\\n\\nLabel configuration\\u200b\\nThe user may choose to hide, warn, or ignore each label from a labeler. Hiding and warning are basically similar, except that hide will also filter the labeled content from feeds and listings. Ignore just ignores the label. If adult content is not enabled in preferences, the behavior should force to hide with no override.\\nLabelers\\u200b\\nLabelers publish labels through a labeling service. They also receive reports through a reporting service.\\n\\nFor this guide, we’ve set up an example labeler with four labels for a user to choose from: fire, water, air, and earth. These labels have been set to “inform” because they’re intended to be used for informational purposes, “warn” severity so that they appear on user profiles and posts, and no blur because these are not moderation labels.\\n\\nDevelopers building client applications should understand how to apply labels (#2) and user controls (#3). For more complete details, see the Labels Specification.\\nLabels\\u200b\\nLabels are published by moderation services, which are either hardcoded into the application or chosen by the user. They are attached to records in the responses under the labels key.\\nA label is published with the following information:'"
      ]
     },
     "execution_count": 11,
     "metadata": {},
     "output_type": "execute_result"
    }
   ],
   "source": [
    "retriever_tool.invoke({'query': 'label configuration'})"
   ]
  },
  {
   "cell_type": "markdown",
   "id": "af9108e7",
   "metadata": {},
   "source": [
    "Evaluate doc relevance"
   ]
  },
  {
   "cell_type": "code",
   "execution_count": 17,
   "id": "6b68f9e9",
   "metadata": {},
   "outputs": [],
   "source": [
    "from pydantic import BaseModel, Field\n",
    "from typing import Literal\n",
    "from langchain.chat_models import init_chat_model\n",
    "from langgraph.graph import MessagesState\n",
    "\n",
    "EVAL_PROMPT = (\n",
    "    \"You are an evaluator assessing the relevance of a retrieved document to a user question. \\n\"\n",
    "    \"Here is the retrieved document: \\n\\n {context} \\n\\n\"\n",
    "    \"Here is the user question: {question} \\n\"\n",
    "    \"If the document contains keyword(s) or semantic meaning related to the user question, grade it as relevant. \\n\"\n",
    "    \"Give a binary score 'yes' or 'no' score to indicate whether the document is relevant to the question.\"\n",
    ")\n",
    "\n",
    "class EvaluateDocuments(BaseModel):\n",
    "    \"\"\"Evaluate documents using a binary score for relevance check\"\"\"\n",
    "    binary_score: str = Field(\n",
    "        description=\"Relevance score: 'yes' if relevant, or 'no' if not relevant\"\n",
    "    )\n",
    "\n",
    "eval_model = init_chat_model(\"openai:gpt-4.1\", temperature=0)\n",
    "\n",
    "def evaluate_documents(state: MessagesState) -> Literal['generate_answer', 'rewrite_question']:\n",
    "    question = state['messages'][0].content\n",
    "    context = state['messages'][-1].content\n",
    "\n",
    "    prompt = EVAL_PROMPT.format(context=context, question=question)\n",
    "\n",
    "    response = eval_model.with_structured_output(EvaluateDocuments).invoke(\n",
    "        [{'role': 'user', 'content': prompt}]\n",
    "    )\n",
    "    score = response.binary_score\n",
    "\n",
    "    if score == 'yes':\n",
    "        return 'generate_answer'\n",
    "    else:\n",
    "        return 'rewrite_question'"
   ]
  },
  {
   "cell_type": "code",
   "execution_count": null,
   "id": "55213666",
   "metadata": {},
   "outputs": [
    {
     "data": {
      "text/plain": [
       "'rewrite_question'"
      ]
     },
     "execution_count": 18,
     "metadata": {},
     "output_type": "execute_result"
    }
   ],
   "source": [
    "from langchain_core.messages import convert_to_messages\n",
    "\n",
    "input = {\n",
    "    \"messages\": convert_to_messages(\n",
    "        [\n",
    "            {\n",
    "                \"role\": \"user\",\n",
    "                \"content\": \"What does the Bluesky documentation say about Personal Data Servers?\",\n",
    "            },\n",
    "            {\n",
    "                \"role\": \"assistant\",\n",
    "                \"content\": \"\",\n",
    "                \"tool_calls\": [\n",
    "                    {\n",
    "                        \"id\": \"1\",\n",
    "                        \"name\": \"retrieve_bsky_docs\",\n",
    "                        \"args\": {\"query\": \"bluesky personal data server\"},\n",
    "                    }\n",
    "                ],\n",
    "            },\n",
    "            {\"role\": \"tool\", \"content\": \"sike!\", \"tool_call_id\": \"1\"},\n",
    "        ]\n",
    "    )\n",
    "}\n",
    "evaluate_documents(input)"
   ]
  },
  {
   "cell_type": "markdown",
   "id": "0cc7e83a",
   "metadata": {},
   "source": [
    "Rewrite question"
   ]
  },
  {
   "cell_type": "code",
   "execution_count": 19,
   "id": "4ca6f104",
   "metadata": {},
   "outputs": [],
   "source": [
    "response_model = init_chat_model(\"openai:gpt-4.1\", temperature=0)\n",
    "\n",
    "REWRITE_PROMPT = (\n",
    "    \"Look at the input and try to reason about the underlying semantic intent / meaning.\\n\"\n",
    "    \"Here is the initial question:\"\n",
    "    \"\\n ------- \\n\"\n",
    "    \"{question}\"\n",
    "    \"\\n ------- \\n\"\n",
    "    \"Formulate an improved question:\"\n",
    ")\n",
    "\n",
    "\n",
    "def rewrite_question(state: MessagesState):\n",
    "    \"\"\"Rewrite the original user question.\"\"\"\n",
    "    messages = state[\"messages\"]\n",
    "    question = messages[0].content\n",
    "    prompt = REWRITE_PROMPT.format(question=question)\n",
    "    response = response_model.invoke([{\"role\": \"user\", \"content\": prompt}])\n",
    "    return {\"messages\": [{\"role\": \"user\", \"content\": response.content}]}"
   ]
  },
  {
   "cell_type": "code",
   "execution_count": 20,
   "id": "0a0cb9d3",
   "metadata": {},
   "outputs": [
    {
     "name": "stdout",
     "output_type": "stream",
     "text": [
      "What information does the Bluesky documentation provide regarding Personal Data Servers, including their purpose, functionality, and role within the Bluesky ecosystem?\n"
     ]
    }
   ],
   "source": [
    "input = {\n",
    "    \"messages\": convert_to_messages(\n",
    "        [\n",
    "            {\n",
    "                \"role\": \"user\",\n",
    "                \"content\": \"What does the Bluesky documentation say about Personal Data Servers?\",\n",
    "            },\n",
    "            {\n",
    "                \"role\": \"assistant\",\n",
    "                \"content\": \"\",\n",
    "                \"tool_calls\": [\n",
    "                    {\n",
    "                        \"id\": \"1\",\n",
    "                        \"name\": \"retrieve_bsky_docs\",\n",
    "                        \"args\": {\"query\": \"bluesky personal data server\"},\n",
    "                    }\n",
    "                ],\n",
    "            },\n",
    "            {\"role\": \"tool\", \"content\": \"sike!\", \"tool_call_id\": \"1\"},\n",
    "        ]\n",
    "    )\n",
    "}\n",
    "\n",
    "response = rewrite_question(input)\n",
    "print(response[\"messages\"][-1][\"content\"])"
   ]
  },
  {
   "cell_type": "code",
   "execution_count": null,
   "id": "acf85918",
   "metadata": {},
   "outputs": [],
   "source": [
    "GENERATE_PROMPT = (\n",
    "    \"You are an assistant for question-answering tasks about Bluesky's moderation system. Use the following pieces of retrieved context to answer the question.\\n\"\n",
    "    \"If the question asks for label configuration, label definitions, or moderation settings, provide the appropriate configuration in the correct format (JSON, code snippets, or structured data as needed).\\n\"\n",
    "    \"Try your best to suggest label names, descriptions, and severity, based on the provided question and context.\\n\"\n",
    "    \"If the question asks for general information or explanations, use three sentences maximum and keep the answer concise.\\n\"\n",
    "    \"Question: {question}\"\n",
    "    \"Context: {context}\"\n",
    ")\n",
    "\n",
    "def generate_answer(state: MessagesState):\n",
    "    \"\"\"Generate an answer.\"\"\"\n",
    "    question = state[\"messages\"][0].content\n",
    "    context = state[\"messages\"][-1].content\n",
    "    prompt = GENERATE_PROMPT.format(question=question, context=context)\n",
    "    response = response_model.invoke([{\"role\": \"user\", \"content\": prompt}])\n",
    "    return {\"messages\": [response]}"
   ]
  }
 ],
 "metadata": {
  "kernelspec": {
   "display_name": "ml",
   "language": "python",
   "name": "python3"
  },
  "language_info": {
   "codemirror_mode": {
    "name": "ipython",
    "version": 3
   },
   "file_extension": ".py",
   "mimetype": "text/x-python",
   "name": "python",
   "nbconvert_exporter": "python",
   "pygments_lexer": "ipython3",
   "version": "3.12.0"
  }
 },
 "nbformat": 4,
 "nbformat_minor": 5
}
