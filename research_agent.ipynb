{
 "cells": [
  {
   "cell_type": "markdown",
   "id": "57c39e57",
   "metadata": {},
   "source": [
    "## Research Agent"
   ]
  },
  {
   "cell_type": "code",
   "execution_count": 1,
   "id": "47496c92",
   "metadata": {},
   "outputs": [],
   "source": [
    "from dotenv import load_dotenv\n",
    "_ = load_dotenv()"
   ]
  },
  {
   "cell_type": "markdown",
   "id": "65d1542b",
   "metadata": {},
   "source": [
    "Tools:\n",
    "- Web search (Tavily Extract)\n",
    "- RAG search\n",
    "- RAG search w/ filter\n",
    "- Final answer formatting"
   ]
  },
  {
   "cell_type": "markdown",
   "id": "d274bf82",
   "metadata": {},
   "source": [
    "Packages used:\n",
    "\n",
    "langchain-ollama\n"
   ]
  },
  {
   "cell_type": "code",
   "execution_count": 2,
   "id": "2df9fff2",
   "metadata": {},
   "outputs": [],
   "source": [
    "from langchain_tavily import TavilyExtract\n",
    "\n",
    "bsky_doc_urls = [\n",
    "    'https://docs.bsky.app/docs/advanced-guides/atproto',\n",
    "    'https://docs.bsky.app/docs/advanced-guides/federation-architecture',\n",
    "    'https://docs.bsky.app/docs/advanced-guides/moderation'\n",
    "]\n",
    "\n",
    "tav_tool = TavilyExtract()"
   ]
  },
  {
   "cell_type": "code",
   "execution_count": 3,
   "id": "6f0a27b5",
   "metadata": {},
   "outputs": [],
   "source": [
    "res = tav_tool.invoke({'urls': bsky_doc_urls})"
   ]
  },
  {
   "cell_type": "code",
   "execution_count": 4,
   "id": "1c5f0eb8",
   "metadata": {},
   "outputs": [
    {
     "data": {
      "text/plain": [
       "{'results': [{'url': 'https://docs.bsky.app/docs/advanced-guides/federation-architecture',\n",
       "   'raw_content': 'Federation Architecture | Bluesky\\n\\n===============\\n\\n[Skip to main content](https://docs.bsky.app/docs/advanced-guides/federation-architecture#__docusaurus_skipToContent_fallback)\\n\\n[![Image 1: Bluesky Logo](https://docs.bsky.app/img/favicon.png) **Bluesky**](https://docs.bsky.app/)[Docs](https://docs.bsky.app/docs/get-started)[Blog](https://docs.bsky.app/blog)[Showcase](https://docs.bsky.app/showcase)\\n\\n[GitHub](https://github.com/bluesky-social)\\n\\nSearch K\\n\\n*   [Get Started](https://docs.bsky.app/docs/get-started)\\n*   [Tutorials](https://docs.bsky.app/docs/category/tutorials) \\n*   [Starter Templates](https://docs.bsky.app/docs/category/starter-templates) \\n*   [Advanced Guides](https://docs.bsky.app/docs/category/advanced-guides) \\n    *   [The AT Protocol](https://docs.bsky.app/docs/advanced-guides/atproto)\\n    *   [Federation Architecture](https://docs.bsky.app/docs/advanced-guides/federation-architecture)\\n    *   [Links, mentions, and rich text](https://docs.bsky.app/docs/advanced-guides/post-richtext)\\n    *   [Rate Limits](https://docs.bsky.app/docs/advanced-guides/rate-limits)\\n    *   [Labels and moderation](https://docs.bsky.app/docs/advanced-guides/moderation)\\n    *   [Posts](https://docs.bsky.app/docs/advanced-guides/posts)\\n    *   [Timestamps](https://docs.bsky.app/docs/advanced-guides/timestamps)\\n    *   [Firehose](https://docs.bsky.app/docs/advanced-guides/firehose)\\n    *   [Resolving Identities](https://docs.bsky.app/docs/advanced-guides/resolving-identities)\\n    *   [Custom Schemas](https://docs.bsky.app/docs/advanced-guides/custom-schemas)\\n    *   [Backfilling the Network](https://docs.bsky.app/docs/advanced-guides/backfill)\\n    *   [Read-After-Write](https://docs.bsky.app/docs/advanced-guides/read-after-write)\\n    *   [Service Auth](https://docs.bsky.app/docs/advanced-guides/service-auth)\\n    *   [PDS Entryway](https://docs.bsky.app/docs/advanced-guides/entryway)\\n    *   [oEmbed and Post Embed Widget](https://docs.bsky.app/docs/advanced-guides/oembed)\\n    *   [Action Intent Links](https://docs.bsky.app/docs/advanced-guides/intent-links)\\n    *   [OAuth Client Implementation](https://docs.bsky.app/docs/advanced-guides/oauth-client)\\n    *   [API Hosts and Auth](https://docs.bsky.app/docs/advanced-guides/api-directory)\\n\\n*   [HTTP Reference](https://docs.bsky.app/docs/category/http-reference) \\n*   [Support](https://docs.bsky.app/docs/category/support) \\n\\n*   [](https://docs.bsky.app/)\\n*   [Advanced Guides](https://docs.bsky.app/docs/category/advanced-guides)\\n*   Federation Architecture\\n\\nOn this page\\n\\nFederation Architecture\\n=======================\\n\\nThe AT Protocol is made up of a bunch of pieces that stack together. Federation means that anyone can run the parts that make up the AT Protocol themselves, such as their own server.\\n\\nThe three main services are personal data servers (PDS), Relays, and App Views. Developers can also run feed generators (custom feeds), and labelers are in active development.\\n\\n![Image 2: Federation architecture diagram](https://docs.bsky.app/assets/images/federation-architecture-diagram-5e4cb957a16f8d5d90325b53133ed0bf.png)\\n\\nPersonal Data Server (PDS)[\\u200b](https://docs.bsky.app/docs/advanced-guides/federation-architecture#personal-data-server-pds \"Direct link to Personal Data Server (PDS)\")\\n----------------------------------------------------------------------------------------------------------------------------------------------------------------------\\n\\nA PDS acts as the participant’s agent in the network. This is what hosts your data (like the posts you’ve created) in your repository. It also handles your account & login, manages your repo’s signing key, stores any of your private data (like which accounts you have muted), and handles the services you talk to for any request.\\n\\nRelay[\\u200b](https://docs.bsky.app/docs/advanced-guides/federation-architecture#relay \"Direct link to Relay\")\\n---------------------------------------------------------------------------------------------------------\\n\\nThe Relay handles \"big-world\" networking. It crawls the network, gathering as much data as it can, and outputs it in one big stream for other services to use. It’s analogous to a firehose provider or a super-powered relay node.\\n\\nAnyone can host a Relay, though it’s a fairly resource-demanding service. In all likelihood, there may be a few large full-network providers, and then a long tail of partial-network providers. Small bespoke Relays could also service tightly or well-defined slices of the network, like a specific new application or a small community.\\n\\nApp Views[\\u200b](https://docs.bsky.app/docs/advanced-guides/federation-architecture#app-views \"Direct link to App Views\")\\n---------------------------------------------------------------------------------------------------------------------\\n\\nAn App View is the piece that actually assembles your feed and all the other data you see in the app, and is generally expected to be downstream from a Relay\\'s firehose of data. This is a highly semantically-aware service that produces aggregations across the network and views over some subset of the network. This is analogous to a prism that takes in the Relay\\'s raw firehose of data from the network, and outputs views that enable an app to show a curated feed to a user. For example, the Relay might crawl to grab data such as a certain post’s likes and reposts, and the app view will output the count of those metrics.\\n\\n![Image 3: The App View visualized as a prism](https://docs.bsky.app/assets/images/app-view-prism-e90e1bf6093bafcb6df2e5c592be1bc6.png)\\n\\nThere will also be an ecosystem of App Views for each lexicon, or “social mode,” deployed on the network. For example, Bluesky currently supports a micro-blogging mode: the `app.bsky` lexicon. Developers who create new lexicons would likely deploy a corresponding App View that understands their lexicon to service their users. Other lexicons could include video or long-form blogging, or different ways of organizing like groups and forums. By bootstrapping off of an existing Relay, data collation will already be taken care of for these new applications. They need only provide the indexing behaviors necessary for their application.\\n\\n“Big World” Design\\n==================\\n\\nThe AT Protocol is architected in a “big world with small world fallbacks” way, modeled after the open web itself. With the web, individual computers upload content to the network, and then all of that content is then broadcasted back to other computers. Similarly, with the AT Protocol, we’re sending messages to a much smaller number of big aggregators, which then broadcast that data to personal data servers across the network. Additionally, we solve the major problems that have surfaced from the web through self-certifying data, open schematic data and APIs, and account portability.\\n\\nOn a technical level, prioritizing big-world indexing over small world networking has multiple benefits.\\n\\n*   It significantly reduces the load on PDSs, making it easier to self-host — you could easily run your own server.\\n*   It improves discoverability of content outside of your immediate neighbors — people want to use social media to see content from outside of their network.\\n*   It improves the quality of experience for everyone in the network — fewer dropped messages or out-of-sync metrics.\\n\\nGiven all that, our proposed methodology here of networking through Relays instead of server-to-server isn’t prescriptive. The protocol is actually explicitly designed to work both ways.\\n\\nSelf-Hosting[\\u200b](https://docs.bsky.app/docs/advanced-guides/federation-architecture#self-hosting \"Direct link to Self-Hosting\")\\n------------------------------------------------------------------------------------------------------------------------------\\n\\nYou can run your own PDS instance in the federated network! For source code and directions see the PDS distribution git repository [here](https://github.com/bluesky-social/pds).\\n\\n[Edit this page](https://github.com/bluesky-social/bsky-docs/tree/main/docs/advanced-guides/federation-architecture.md)\\n\\n[Previous The AT Protocol](https://docs.bsky.app/docs/advanced-guides/atproto)[Next Links, mentions, and rich text](https://docs.bsky.app/docs/advanced-guides/post-richtext)\\n\\n*   [Personal Data Server (PDS)](https://docs.bsky.app/docs/advanced-guides/federation-architecture#personal-data-server-pds)\\n*   [Relay](https://docs.bsky.app/docs/advanced-guides/federation-architecture#relay)\\n*   [App Views](https://docs.bsky.app/docs/advanced-guides/federation-architecture#app-views)\\n*   [Self-Hosting](https://docs.bsky.app/docs/advanced-guides/federation-architecture#self-hosting)\\n\\nDocs\\n\\n*   [Starter Templates](https://docs.bsky.app/docs/category/starter-templates)\\n*   [AT Protocol](https://atproto.com/)\\n\\nCommunity\\n\\n*   [Bluesky](https://bsky.app/profile/bsky.app)\\n*   [Twitter](https://twitter.com/bluesky)\\n*   [Community-run Discord](https://discord.gg/3srmDsHSZJ)\\n*   [Mailing List](https://docs.bsky.app/docs/support/mailing-list)\\n\\nMore\\n\\n*   [Blog](https://docs.bsky.app/blog)\\n*   [GitHub Discussions](https://github.com/bluesky-social/atproto/discussions)\\n*   [GitHub](https://github.com/bluesky-social)\\n\\nCopyright © 2025 Bluesky, PBC.\\n',\n",
       "   'images': []},\n",
       "  {'url': 'https://docs.bsky.app/docs/advanced-guides/atproto',\n",
       "   'raw_content': '![Bluesky Logo](/img/favicon.png)\\n![Bluesky Logo](/img/favicon.png)\\n\\n# The AT Protocol\\n\\nThe AT Protocol (Authenticated Transfer Protocol, or atproto) is a standard for public conversation and an open-source framework for building social apps.\\n\\nIt creates a standard format for user identity, follows, and data on social apps, allowing apps to interoperate and users to move across them freely. It is a federated network with account portability.\\n\\n## Basic Concepts[\\u200b](#basic-concepts \"Direct link to Basic Concepts\")\\n\\n### Identity[\\u200b](#identity \"Direct link to Identity\")\\n\\nUsers are identified by domain names on the AT Protocol. These domains map to cryptographic URLs which secure the user\\'s account and its data.\\n\\n![Identities](/assets/images/identities-dc5bef628a6f5dcf086d432e702a2fe3.jpg#rounded)\\n\\n![Identities](/assets/images/identities-dc5bef628a6f5dcf086d432e702a2fe3.jpg#rounded)\\n\\n### Data repositories[\\u200b](#data-repositories \"Direct link to Data repositories\")\\n\\nUser data is exchanged in signed data repositories. These repositories are collections of records which include posts, comments, likes, follows, media blobs, etc.\\n\\n![Data repos](/assets/images/data-repos-9861ee82490e774eaf534bdf02313c5b.jpg#rounded)\\n\\n![Data repos](/assets/images/data-repos-9861ee82490e774eaf534bdf02313c5b.jpg#rounded)\\n\\n### Federation[\\u200b](#federation \"Direct link to Federation\")\\n\\nThe AT Protocol syncs the repositories in a federated networking model. Federation was chosen to ensure the network is convenient to use and reliably available. Repository data is synchronized between servers over standard web technologies (HTTP and WebSockets).\\n\\nThe three core services in our network are Personal Data Servers (PDS), Big Graph Services (BGS), and App Views. We\\'re also working on feed generators and labelers.\\n\\nRead more about the federation architecture [here](/docs/advanced-guides/federation-architecture).\\n\\n### Interoperation[\\u200b](#interoperation \"Direct link to Interoperation\")\\n\\nA global schemas network called Lexicon is used to unify the names and behaviors of the calls across the servers. Servers implement \"lexicons\" to support featuresets, including the core atproto Lexicon for syncing user repositories and the Bsky lexicon to provide basic social behaviors.\\n\\n![Interop](/assets/images/interop-a7db8e67b8aba872a3bf2b64e5b99112.jpg#rounded)\\n\\n![Interop](/assets/images/interop-a7db8e67b8aba872a3bf2b64e5b99112.jpg#rounded)\\n\\nWhile the Web exchanges documents, the AT Protocol exchanges schematic and semantic information, enabling the software from different orgs to understand each others\\' data. This gives atproto clients freedom to produce user interfaces independently of the servers, and removes the need to exchange rendering code (HTML/JS/CSS) while browsing content.\\n\\n### Achieving scale[\\u200b](#achieving-scale \"Direct link to Achieving scale\")\\n\\nPersonal data servers are your home in the cloud. They host your data, distribute it, manage your identity, and orchestrate requests to other services to give you your views.\\n\\nRelays handle all of your events, like retrieving large-scale metrics (likes, reposts, followers), content discovery (algorithms), and user search.\\n\\n![PDS and Relay](/assets/images/small-big-world-0829a0040348f01bd8232f33b5acd3c2.jpg#rounded)\\n\\n![PDS and Relay](/assets/images/small-big-world-0829a0040348f01bd8232f33b5acd3c2.jpg#rounded)\\n\\nThis distinction is intended to achieve scale as well as a high degree of user-choice.\\n\\n### Algorithmic choice[\\u200b](#algorithmic-choice \"Direct link to Algorithmic choice\")\\n\\nAs with Web search engines, users are free to select their aggregators. Feeds, App Views, and search indices can be provided by independent third parties, with requests routed by the PDS based on user configuration.\\n\\n![Algorithmic choice](/assets/images/algorithmic-choice-e2cedc28cab91115a64c210fbfd26b40.jpg#rounded)\\n\\n![Algorithmic choice](/assets/images/algorithmic-choice-e2cedc28cab91115a64c210fbfd26b40.jpg#rounded)\\n\\n### Account portability[\\u200b](#account-portability \"Direct link to Account portability\")\\n\\nWe assume that a Personal Data Server may fail at any time, either by going offline in its entirety, or by ceasing service for specific users. The goal of the AT Protocol is to ensure that a user can migrate their account to a new PDS without the server\\'s involvement.\\n\\nUser data is stored in signed data repositories and verified by DIDs. Signed data repositories are like Git repos but for database records, and DIDs are essentially registries of user certificates, similar in some ways to the TLS certificate system. They are expected to be secure, reliable, and independent of the user\\'s PDS.\\n\\n![DID Documents](/assets/images/did-doc-5f4cfdba13c09e05c1f60f2e7ca67ec3.jpg#rounded)\\n\\n![DID Documents](/assets/images/did-doc-5f4cfdba13c09e05c1f60f2e7ca67ec3.jpg#rounded)\\n\\nEach DID document publishes two public keys: a signing key and a recovery key.\\n\\nThe signing key is entrusted to the PDS so that it can manage the user\\'s data, but the recovery key is saved by the user, e.g. as a paper key. This makes it possible for the user to update their account to a new PDS without the original host\\'s help.\\n\\n![Account recovery](/assets/images/recovery-51f41dd709d3ab71262ec712dac90999.jpg#rounded)\\n\\n![Account recovery](/assets/images/recovery-51f41dd709d3ab71262ec712dac90999.jpg#rounded)\\n\\nA backup of the user’s data will be persistently synced to their client as a backup (contingent on the disk space available). Should a PDS disappear without notice, the user should be able to migrate to a new provider by updating their DID Document and uploading the backup.\\n\\n### Speech, reach, and moderation[\\u200b](#speech-reach-and-moderation \"Direct link to Speech, reach, and moderation\")\\n\\nAtproto\\'s model is that *speech* and *reach* should be two separate layers, built to work with each other. The “speech” layer should remain permissive, distributing authority and designed to ensure everyone has a voice. The “reach” layer lives on top, built for flexibility and designed to scale.\\n\\n![Speech vs Reach](/assets/images/speech-vs-reach-a411dff53dc771beb686b42347cdfaf0.jpg#rounded)\\n\\n![Speech vs Reach](/assets/images/speech-vs-reach-a411dff53dc771beb686b42347cdfaf0.jpg#rounded)\\n\\nThe base layer of atproto (personal data repositories and federated networking) creates a common space for speech where everyone is free to participate, analogous to the Web where anyone can put up a website. The indexing services then enable reach by aggregating content from the network, analogous to a search engine.\\n\\n## Read More[\\u200b](#read-more \"Direct link to Read More\")\\n\\nYou can read the AT Protocol specs [here](https://atproto.com).',\n",
       "   'images': []},\n",
       "  {'url': 'https://docs.bsky.app/docs/advanced-guides/moderation',\n",
       "   'raw_content': '![Bluesky Logo](/img/favicon.png)\\n![Bluesky Logo](/img/favicon.png)\\n\\n# Labels and moderation\\n\\nModeration in Bluesky consists of multiple, stackable systems, including:\\n\\nDevelopers building client applications should understand how to apply labels (#2) and user controls (#3). For more complete details, see the [Labels Specification](https://atproto.com/specs/label).\\n\\n## Labels[\\u200b](#labels \"Direct link to Labels\")\\n\\nLabels are published by *moderation services*, which are either hardcoded into the application or chosen by the user. They are attached to records in the responses under the `labels` key.\\n\\n`labels`\\n\\nA label is published with the following information:\\n\\n`{  \\n /** DID of the actor who created this label. */  \\n src: string  \\n /** AT URI of the record, repository (account), or other resource that this label applies to. */  \\n uri: string  \\n /** Optionally, CID specifying the specific version of \\'uri\\' resource this label applies to. */  \\n cid?: string  \\n /** The short string name of the value or type of this label. */  \\n val: string  \\n /** If true, this is a negation label, overwriting a previous label. */  \\n neg?: boolean  \\n /** Timestamp when this label was created. */  \\n cts: string  \\n}`\\n\\n### Label values[\\u200b](#label-values \"Direct link to Label values\")\\n\\nThe *value* of a label will determine its behavior. Some example label values are `porn`, `gore`, and `spam`.\\n\\n`porn`\\n`gore`\\n`spam`\\n\\nLabel values are strings. They currently must only be lowercase a-z or a dash character `^[a-z-]+$`. Some of them start with `!`, but that can only be used by global label values.\\n\\n`^[a-z-]+$`\\n`!`\\n\\nLabel values are interpreted by their definitions. Those definitions include these attributes:\\n\\n`blurs`\\n`content`\\n`media`\\n`none`\\n`severity`\\n`alert`\\n`inform`\\n`none`\\n`defaultSetting`\\n`hide`\\n`warn`\\n`ignore`\\n`adultOnly`\\n\\nThere are other definition attributes, but they are only used by the global label values.\\n\\n### Global label values[\\u200b](#global-label-values \"Direct link to Global label values\")\\n\\nThere are a few label values which are defined by the protocol. They are:\\n\\n`!hide`\\n`!warn`\\n`!no-unauthenticated`\\n`porn`\\n`sexual`\\n`porn`\\n`graphic-media`\\n`porn`\\n`nudity`\\n\\nThere are two reasons global label values exist.\\n\\nThe first is because only label values which are defined globally can be used as self-labels (ie set by a user who is not a Labeler). The porn, sexual, gore, nudity, and !no-unauthenticated labels are global for this reason.\\n\\nThe second is because some special behaviors, like \"non-configurable\" and \"applies only to logged out users,\" cannot be applied to custom labels. The !hide, !warn, and !no-unauthenticated labels are global for this reason.\\n\\n### Custom label values[\\u200b](#custom-label-values \"Direct link to Custom label values\")\\n\\nLabelers may define their own label values. Every Labeler has its own namespace of label values it defines. Custom definitions can override all global definitions for the defining Labeler except for the ones that start with a `!`, because those are reserved.\\n\\n`!`\\n\\nSince there are two behavior attributes (`blurs` and `severity`) with three values each, there are 9 possible behaviors for custom label values.\\n\\n`blurs`\\n`severity`\\n\\n| Blurs | Severity | Description |\\n| --- | --- | --- |\\n| `content` | `alert` | Hide the content and put a \"danger\" warning label on the content if viewed |\\n| `content` | `inform` | Hide the content and put a \"neutral\" information label on the content if viewed |\\n| `content` | `none` | Hide the content |\\n| `media` | `alert` | Hide images in the content and put a \"danger\" warning label on the content if viewed |\\n| `media` | `inform` | Hide images in the content and put a \"neutral\" information label on the content if viewed |\\n| `media` | `none` | Hide images in the content |\\n| `none` | `alert` | Put a \"danger\" warning label on the content |\\n| `none` | `inform` | Put a \"neutral\" information label on the content |\\n| `none` | `none` | No visual effect |\\n\\n`content`\\n`alert`\\n`content`\\n`inform`\\n`content`\\n`none`\\n`media`\\n`alert`\\n`media`\\n`inform`\\n`media`\\n`none`\\n`none`\\n`alert`\\n`none`\\n`inform`\\n`none`\\n`none`\\n\\nSome examples of the definitions you might use for a label\\n\\n`blurs=content`\\n`severity=alert`\\n`blurs=media`\\n`severity=alert`\\n`blurs=none`\\n`severity=alert`\\n`blurs=none`\\n`severity=inform`\\n`blurs=none`\\n`severity=none`\\n\\nThe `defaultSetting` establishes how the label will be configured when the user first subscribes to the labeler.\\n\\n`defaultSetting`\\n\\nThe `adultOnly` establishes whether the label should be configurable if adult content is disabled.\\n\\n`adultOnly`\\n\\n### Label targets[\\u200b](#label-targets \"Direct link to Label targets\")\\n\\nLabels may be placed on accounts or records. The Bluesky app interprets the targets in 3 different ways:\\n\\nLabels on accounts or posts have obvious effects. They’ll hide the account or post if the user has set the preference to \"hide,\" and they’ll blur or warn the content according to the label’s settings. A label on an account will cause the warnings to show on all of its posts and other content.\\n\\nLabels on profiles have much less significant effects. The warnings only show on the profile when viewed directly or in a listing (e.g. \"followers\"). This means the warnings don’t show on the user’s posts, unlike when the label is on the account. Most notably: the \"hide\" preference has no effect when the label is on a profile.\\n\\nIf the label blurs media, a label on a profile will blur the avatar and banner wherever they are shown. This is the main reason you want to apply a label on a profile – because you’re just trying to blur the avatar, and you don’t want to demote the user’s content otherwise.\\n\\n### Label configuration[\\u200b](#label-configuration \"Direct link to Label configuration\")\\n\\nThe user may choose to hide, warn, or ignore each label from a labeler. Hiding and warning are basically similar, except that hide will also filter the labeled content from feeds and listings. Ignore just ignores the label. If adult content is not enabled in preferences, the behavior should force to hide with no override.\\n\\n## Labelers[\\u200b](#labelers \"Direct link to Labelers\")\\n\\nLabelers publish labels through a labeling service. They also receive reports through a reporting service.\\n\\nLabelers function like typical atproto accounts. They have a repo, can create posts, and can follow or be followed. An account becomes a Labeler by configuring its DID Document and publishing an `app.bsky.labeler.service` record in their repo.\\n\\n`app.bsky.labeler.service`\\n\\nThe labels are not published on the repo. They are signed separately and synced through the labeling service.\\n\\n### Labeler declarations[\\u200b](#labeler-declarations \"Direct link to Labeler declarations\")\\n\\nLabelers publish an `/app.bsky.labeler.service/self` record to declare that they are a labeler and publish their policies. That record looks like this:\\n\\n`/app.bsky.labeler.service/self`\\n`{  \\n \"$type\": \"app.bsky.labeler.service\",  \\n \"policies\": {  \\n \"labelValues\": [\"porn\", \"spider\"],  \\n \"labelValueDefinitions\": [  \\n {  \\n \"identifier\": \"spider\",  \\n \"severity\": \"alert\",  \\n \"blurs\": \"media\",  \\n \"defaultSetting\": \"warn\",  \\n \"locales\": [  \\n {\"lang\": \"en\", \"name\": \"Spider Warning\", \"description\": \"Spider!!!\"}  \\n ]  \\n }  \\n ]  \\n },  \\n \"subjectTypes\": [\"record\"],  \\n \"subjectCollections\": [\"app.bsky.feed.post\", \"app.bsky.actor.profile\"],  \\n \"reasonTypes\": [\"com.atproto.moderation.defs#reasonOther\"],  \\n \"createdAt\": \"2024-03-03T05:31:08.938Z\"  \\n}`\\n\\nThe `labelValues` declares what to expect from the Labeler. It may include global and custom label values.\\n\\n`labelValues`\\n\\nThe `labelValueDefinitions` defines the custom labels. It includes the `locales` field for specifying human-readable copy in various languages. If the user’s language is not found, it will use the first set of strings in the array.\\n\\n`labelValueDefinitions`\\n`locales`\\n\\n`subjectTypes`, `subjectCollections`, and `reasonTypes` declare what type of moderation reports are reviewed by the Labeler. `subjectTypes` can include `record` for individual pieces of content, and `account` for overall accounts. `subjectCollections` is a list of NSIDs of record types; if not defined, any record type is allowed. `reasonTypes` is a list of report reason codes (Lexicon references).\\n\\n`subjectTypes`\\n`subjectCollections`\\n`reasonTypes`\\n`subjectTypes`\\n`record`\\n`account`\\n`subjectCollections`\\n`reasonTypes`\\n\\n## Labeler subscriptions[\\u200b](#labeler-subscriptions \"Direct link to Labeler subscriptions\")\\n\\nTo include labels from a given labeler, you set the `atproto-accept-labelers` header on the HTTP request to a comma-separated list of the DIDs of the labelers you want to include. The AppView will subscribe to the included labelers (if it hasn’t already) and attach any relevant labels. It includes the `atproto-content-labelers` header in the response to indicate which labelers were successfully included.\\n\\n`atproto-accept-labelers`\\n`atproto-content-labelers`\\n\\nYou may include up to 20 labelers. The Bluesky application hardcodes Bluesky’s moderation for inclusion, leaving 19 additional subscriptions to the users.\\n\\n## Self-labels[\\u200b](#self-labels \"Direct link to Self-labels\")\\n\\nUsers may attach labels to their own content in record types which support it (profile and post are two such examples).\\n\\nOnly global labels can be used for self-labeling, but not all global labels can be used for self-labeling. The supported self-label values are:\\n\\n`!no-unauthenticated`\\n`porn`\\n`sexual`\\n`nudity`\\n`graphic-media`\\n\\nWhile it may be possible to expand the self-labeling vocabulary by adding more global label definitions, we caution against the aggressive policing culture that can form around self-labeling.\\n\\n## Reporting[\\u200b](#reporting \"Direct link to Reporting\")\\n\\nTo send a report to a Labeler, use the `com.atproto.moderation.createReport` procedure. Users may send reports to any of their labelers.\\n\\n`com.atproto.moderation.createReport`\\n\\nTo specify which labeler should receive the label, set the `atproto-proxy` header with the DID of the labeler and the service key of `atproto_labeler`. In the official TypeScript SDK, it looks like this:\\n\\n`atproto-proxy`\\n`atproto_labeler`\\n`agent  \\n .withProxy(\\'atproto_labeler\\', \\'did:web:my-labeler.com\\')  \\n .createModerationReport({  \\n reasonType: \\'com.atproto.moderation.defs#reasonViolation\\',  \\n reason: \\'They were being such a jerk to me!\\',  \\n subject: { did: \\'did:web:bob.com\\' },  \\n })`\\n\\nClients should not send reports to Labelers which do not match the subject and report type metadata in the declaration record (see above).\\n\\n## Official SDK[\\u200b](#official-sdk \"Direct link to Official SDK\")\\n\\nThe official TypeScript SDK provides methods to help developers\\ninteract with labels and moderation.\\n\\n### Configuration[\\u200b](#configuration \"Direct link to Configuration\")\\n\\nEvery moderation function takes a set of options which look like this:\\n\\n`{  \\n // the logged-in user\\'s DID  \\n userDid: \\'did:plc:1234...\\',  \\n  \\n moderationPrefs: {  \\n // is adult content allowed?  \\n adultContentEnabled: true,  \\n  \\n // the global label settings (used on self-labels)  \\n labels: {  \\n porn: \\'hide\\',  \\n sexual: \\'warn\\',  \\n nudity: \\'ignore\\',  \\n // ...  \\n },  \\n  \\n // the subscribed labelers and their label settings  \\n labelers: [  \\n {  \\n did: \\'did:plc:1234...\\',  \\n labels: {  \\n porn: \\'hide\\',  \\n sexual: \\'warn\\',  \\n nudity: \\'ignore\\',  \\n // ...  \\n }  \\n }  \\n ],  \\n  \\n mutedWords: [/* ... */],  \\n hiddenPosts: [/* ... */]  \\n },  \\n  \\n // custom label definitions  \\n labelDefs: {  \\n // labelerDid => defs[]  \\n \\'did:plc:1234...\\': [  \\n /* ... */  \\n ]  \\n }  \\n}`\\n\\nThis should match the following interfaces:\\n\\n`export interface ModerationPrefsLabeler {  \\n did: string  \\n labels: Record<string, LabelPreference>  \\n}  \\n  \\nexport interface ModerationPrefs {  \\n adultContentEnabled: boolean  \\n labels: Record<string, LabelPreference>  \\n labelers: ModerationPrefsLabeler[]  \\n mutedWords: AppBskyActorDefs.MutedWord[]  \\n hiddenPosts: string[]  \\n}  \\n  \\nexport interface ModerationOpts {  \\n userDid: string | undefined  \\n prefs: ModerationPrefs  \\n /**  \\n * Map of labeler did -> custom definitions  \\n */  \\n labelDefs?: Record<string, InterpretedLabelValueDefinition[]>  \\n}`\\n\\nYou can quickly grab the `ModerationPrefs` using the `agent.getPreferences()` method:\\n\\n`ModerationPrefs`\\n`agent.getPreferences()`\\n`const prefs = await agent.getPreferences()  \\nmoderatePost(post, {  \\n userDid: /*...*/,  \\n prefs: prefs.moderationPrefs,  \\n labelDefs: /*...*/  \\n})`\\n\\nTo gather the label definitions (`labelDefs`) see the *Labelers* section below.\\n\\n`labelDefs`\\n\\n### Labeler management[\\u200b](#labeler-management \"Direct link to Labeler management\")\\n\\nLabelers are services that provide moderation labels. Your application will typically have 1+ top-level labelers set with the ability to do \"takedowns\" on content. This is controlled via this static function, though the default is to use Bluesky\\'s moderation:\\n\\n`BskyAgent.configure({  \\n appLabelers: [\\'did:web:my-labeler.com\\'],  \\n})`\\n\\nUsers may also add their own labelers. The active labelers are controlled via an HTTP header which is automatically set by the agent when `getPreferences` is called, or when the labeler preferences are changed.\\n\\n`getPreferences`\\n\\nThe label value definition are custom labels which only apply to that labeler. Your client needs to sync those definitions in order to correctly interpret them. To do that, call `agent.getLabelers()` or `agent.getLabelDefinitions()` periodically to fetch their definitions. We recommend caching the response (at time our writing the official client uses a TTL of 6 hours).\\n\\n`agent.getLabelers()`\\n`agent.getLabelDefinitions()`\\n\\nHere is how to do this:\\n\\n`import { BskyAgent } from \\'@atproto/api\\'  \\n  \\nconst agent = new BskyAgent()  \\n// assume `agent` is a signed in session  \\nconst prefs = await agent.getPreferences()  \\nconst labelDefs = await agent.getLabelDefinitions(prefs)  \\n  \\nmoderatePost(post, {  \\n userDid: agent.session.did,  \\n prefs: prefs.moderationPrefs,  \\n labelDefs,  \\n})`\\n\\n### The `moderate*()` APIs[\\u200b](#the-moderate-apis \"Direct link to the-moderate-apis\")\\n\\n`moderate*()`\\n\\nThe SDK exports methods to moderate the different kinds of content on the network.\\n\\n`import {  \\n moderateProfile,  \\n moderatePost,  \\n moderateNotification,  \\n moderateFeedGen,  \\n moderateUserList,  \\n moderateLabeler,  \\n} from \\'@atproto/api\\'`\\n\\nEach of these follows the same API signature:\\n\\n`const res = moderatePost(post, moderationOptions)`\\n\\nThe response object provides an API for figuring out what your UI should do in different contexts.\\n\\n`res.ui(context) /* =>   \\n  \\nModerationUI {  \\n filter: boolean // should the content be removed from the interface?  \\n blur: boolean // should the content be put behind a cover?  \\n alert: boolean // should an alert be put on the content? (negative)  \\n inform: boolean // should an informational notice be put on the content? (neutral)  \\n noOverride: boolean // if blur=true, should the UI disable opening the cover?  \\n  \\n // the reasons for each of the flags:  \\n filters: ModerationCause[]  \\n blurs: ModerationCause[]  \\n alerts: ModerationCause[]  \\n informs: ModerationCause[]  \\n}  \\n*/`\\n\\nThere are multiple UI contexts available:\\n\\n`profileList`\\n`profileView`\\n`avatar`\\n`banner`\\n`displayName`\\n`contentList`\\n`contentView`\\n`contentMedia`\\n\\nHere\\'s how a post in a feed would use these tools to make a decision:\\n\\n`const mod = moderatePost(post, moderationOptions)  \\n  \\nif (mod.ui(\\'contentList\\').filter) {  \\n // dont show the post  \\n}  \\nif (mod.ui(\\'contentList\\').blur) {  \\n // cover the post with the explanation from mod.ui(\\'contentList\\').blurs[0]  \\n if (mod.ui(\\'contentList\\').noOverride) {  \\n // dont allow the cover to be removed  \\n }  \\n}  \\nif (mod.ui(\\'contentMedia\\').blur) {  \\n // cover the post\\'s embedded images with the explanation from mod.ui(\\'contentMedia\\').blurs[0]  \\n if (mod.ui(\\'contentMedia\\').noOverride) {  \\n // dont allow the cover to be removed  \\n }  \\n}  \\nif (mod.ui(\\'avatar\\').blur) {  \\n // cover the avatar with the explanation from mod.ui(\\'avatar\\').blurs[0]  \\n if (mod.ui(\\'avatar\\').noOverride) {  \\n // dont allow the cover to be removed  \\n }  \\n}  \\nfor (const alert of mod.ui(\\'contentList\\').alerts) {  \\n // render this alert  \\n}  \\nfor (const inform of mod.ui(\\'contentList\\').informs) {  \\n // render this inform  \\n}`\\n`moderate*()`',\n",
       "   'images': []}],\n",
       " 'failed_results': [],\n",
       " 'response_time': 1.09}"
      ]
     },
     "execution_count": 4,
     "metadata": {},
     "output_type": "execute_result"
    }
   ],
   "source": [
    "res"
   ]
  },
  {
   "cell_type": "markdown",
   "id": "4950d2cf",
   "metadata": {},
   "source": [
    "### Graph State"
   ]
  },
  {
   "cell_type": "code",
   "execution_count": 2,
   "id": "c31ad892",
   "metadata": {},
   "outputs": [],
   "source": [
    "from typing import TypedDict, Annotated, List, Union\n",
    "from langchain_core.agents import AgentAction, AgentFinish\n",
    "from langchain_core.messages import BaseMessage\n",
    "import operator\n",
    "\n",
    "class AgentState(TypedDict):\n",
    "    input: str # \n",
    "    chat_history: List[BaseMessage]\n",
    "    intermediate_steps: Annotated[List[tuple[AgentAction, str]], operator.add]"
   ]
  },
  {
   "cell_type": "markdown",
   "id": "eec3be43",
   "metadata": {},
   "source": [
    "- `input`: the user's most recent query, i.e., the question we want to answer with the research agent.\n",
    "- `chat_history`: allows previous interactions to give additional context throughout the agent logic\n",
    "- `intermediate_steps`: gives a record of all the steps the research agent will take between the user asking a question via `input` and the agent giving a final answer."
   ]
  },
  {
   "cell_type": "markdown",
   "id": "7be69bf2",
   "metadata": {},
   "source": [
    "### Custom tools"
   ]
  },
  {
   "cell_type": "code",
   "execution_count": 3,
   "id": "686958b6",
   "metadata": {},
   "outputs": [],
   "source": [
    "from langchain_tavily import TavilySearch\n",
    "\n",
    "# Search tool\n",
    "web_search = TavilySearch(\n",
    "    max_results=5,\n",
    "    topic=\"general\",\n",
    ")"
   ]
  },
  {
   "cell_type": "code",
   "execution_count": null,
   "id": "31e2efab",
   "metadata": {},
   "outputs": [],
   "source": [
    "# ----> SKIP THIS CELL - this is for injection of args at runtime - expermiental, not used as tool below\n",
    "from langchain_core.tools import InjectedToolArg, tool\n",
    "from typing_extensions import Annotated\n",
    "\n",
    "@tool('w_search')\n",
    "def w_search(urls: Annotated[list[str], InjectedToolArg]):\n",
    "    \"\"\"Retrieve information from bluesky online documentation\"\"\"\n",
    "    res = TavilyExtract().invoke(urls)\n",
    "    return res\n",
    "\n",
    "print(w_search.get_input_schema().model_json_schema())\n",
    "print(w_search.tool_call_schema.model_json_schema())"
   ]
  },
  {
   "cell_type": "code",
   "execution_count": 4,
   "id": "6960c8a9",
   "metadata": {},
   "outputs": [],
   "source": [
    "# Retriever\n",
    "from utils import load_docs, split_code, create_retriever # defined in utils.py file\n",
    "from langchain_text_splitters import Language\n",
    "from langchain.tools.retriever import create_retriever_tool\n",
    "from langchain_core.tools import tool\n",
    "\n",
    "from langchain_core.vectorstores import InMemoryVectorStore\n",
    "from langchain_ollama import OllamaEmbeddings\n",
    "\n",
    "SOURCE_CODE_PATH = './data/labeler-starter-kit-bsky-main/src'\n",
    "FILE_EXTS = [\".ts\"]\n",
    "LANG = Language.TS\n",
    "\n",
    "def create_vector_store(src_path, file_extensions, lang):\n",
    "    \"\"\"Searches information from .ts documents stored in memory vector DB\"\"\"\n",
    "    docs = load_docs(src_path, file_extensions)\n",
    "    split_docs = split_code(docs, lang)\n",
    "    embeddings = OllamaEmbeddings(model='llama3.2')\n",
    "    \n",
    "    vector_store = InMemoryVectorStore(embeddings)\n",
    "    _ = vector_store.add_documents(split_docs)\n",
    "    return vector_store\n"
   ]
  },
  {
   "cell_type": "code",
   "execution_count": 5,
   "id": "2946d9f8",
   "metadata": {},
   "outputs": [],
   "source": [
    "vs = create_vector_store(SOURCE_CODE_PATH, FILE_EXTS, LANG)"
   ]
  },
  {
   "cell_type": "code",
   "execution_count": 6,
   "id": "2e7814d0",
   "metadata": {},
   "outputs": [],
   "source": [
    "from langchain_core.tools import tool\n",
    "\n",
    "@tool(response_format='content_and_artifact')\n",
    "def retrieve(query):\n",
    "    \"\"\"Retrieve information related to a query\"\"\"\n",
    "    retrieved_docs = vs.similarity_search(query, k=2)\n",
    "    serialized = \"\\n\\n\".join(\n",
    "        (f\"Source: {doc.metadata}\\nContent: {doc.page_content}\")\n",
    "        for doc in retrieved_docs\n",
    "    )\n",
    "    return serialized, retrieved_docs"
   ]
  },
  {
   "cell_type": "code",
   "execution_count": 7,
   "id": "6504ab5e",
   "metadata": {},
   "outputs": [
    {
     "name": "stdout",
     "output_type": "stream",
     "text": [
      "Source: {'source': 'data/labeler-starter-kit-bsky-main/src/main.ts', 'language': <Language.TS: 'ts'>}\n",
      "Content: function shutdown() {\n",
      "  try {\n",
      "    logger.info('Shutting down gracefully...');\n",
      "    fs.writeFileSync('cursor.txt', jetstream.cursor!.toString(), 'utf8');\n",
      "    jetstream.close();\n",
      "    labelerServer.stop();\n",
      "    metricsServer.close();\n",
      "  } catch (error) {\n",
      "    logger.error(`Error shutting down gracefully: ${error}`);\n",
      "    process.exit(1);\n",
      "  }\n",
      "}\n",
      "\n",
      "Source: {'source': 'data/labeler-starter-kit-bsky-main/src/main.ts', 'language': <Language.TS: 'ts'>}\n",
      "Content: const metricsServer = startMetricsServer(METRICS_PORT);\n",
      "\n",
      "labelerServer.app.listen({ port: PORT, host: HOST }, (error, address) => {\n",
      "  if (error) {\n",
      "    logger.error('Error starting server: %s', error);\n",
      "  } else {\n",
      "    logger.info(`Labeler server listening on ${address}`);\n",
      "  }\n",
      "});\n",
      "\n",
      "jetstream.start();\n"
     ]
    }
   ],
   "source": [
    "res = retrieve.invoke('shutdown()')\n",
    "print(res)"
   ]
  },
  {
   "cell_type": "code",
   "execution_count": 8,
   "id": "b17c382d",
   "metadata": {},
   "outputs": [],
   "source": [
    "@tool('final_answer')\n",
    "def final_answer(research_steps, main_body, sources):\n",
    "    \"\"\"Returns a natural language response to the user with a specific output format\"\"\"\n",
    "    if type(research_steps) is list:\n",
    "        research_steps = \"\\n\".join([f\"- {r}\" for r in research_steps])\n",
    "    if type(sources) is list:\n",
    "        sources = \"\\n\".join([f\"- {s}\" for s in sources])\n",
    "    return ''"
   ]
  },
  {
   "cell_type": "markdown",
   "id": "e88de14f",
   "metadata": {},
   "source": [
    "## Supervisor LLM"
   ]
  },
  {
   "cell_type": "markdown",
   "id": "c291d1ad",
   "metadata": {},
   "source": [
    "The graph's decision-maker. It has a set of potential function call (ie our tools) that it can decide to use. It will use at least one of those tools using the `tool_choice='any'` setting. The supervisor only makes the decision to use a tool, and does not execute the tool code itself."
   ]
  },
  {
   "cell_type": "code",
   "execution_count": 9,
   "id": "b0888374",
   "metadata": {},
   "outputs": [],
   "source": [
    "from langchain_core.prompts import ChatPromptTemplate, MessagesPlaceholder\n",
    "\n",
    "system_prompt = \"\"\"You are the oracle, the great AI decision maker.\n",
    "Given the user's query you must decide what to do with it based on the\n",
    "list of tools provided to you.\n",
    "\n",
    "If you see that a tool has been used (in the scratchpad) with a particular\n",
    "query, do NOT use that same tool with the same query again. Also, do NOT use\n",
    "any tool more than twice (ie, if the tool appears in the scratchpad twice, do\n",
    "not use it again).\n",
    "\n",
    "You should aim to collect information from a diverse range of sources before\n",
    "providing the answer to the user. Once you have collected plenty of information\n",
    "to answer the user's question (stored in the scratchpad) use the final_answer\n",
    "tool.\"\"\"\n",
    "\n",
    "prompt = ChatPromptTemplate.from_messages([\n",
    "    ('system', system_prompt),\n",
    "    MessagesPlaceholder(variable_name='chat_history'),\n",
    "    ('user', '{input}'),\n",
    "    ('assistant', 'scratchpad: {scratchpad}')\n",
    "])"
   ]
  },
  {
   "cell_type": "code",
   "execution_count": 10,
   "id": "b046737f",
   "metadata": {},
   "outputs": [],
   "source": [
    "import os\n",
    "from langchain_core.messages import ToolCall, ToolMessage\n",
    "from langchain_ollama import ChatOllama\n",
    "from langchain_openai import ChatOpenAI\n",
    "\n",
    "# llm = ChatOllama(model='mistral:7b')\n",
    "llm = ChatOpenAI( # Performs much better but is expensive!\n",
    "    model='gpt-4o',\n",
    "    openai_api_key=os.environ['OPENAI_API_KEY'],\n",
    "    temperature=0\n",
    ")\n",
    "\n",
    "tools = [\n",
    "    web_search,\n",
    "    retrieve,\n",
    "    final_answer\n",
    "]\n",
    "\n",
    "# function to transform intermediate_steps from list of AgentAction to scratchpad string\n",
    "def create_scratchpad(intermediate_steps: list[AgentAction]):\n",
    "    research_steps = []\n",
    "    for i, action in enumerate(intermediate_steps):\n",
    "        if action.log != 'TBD':\n",
    "            # this was the ToolExecution\n",
    "            research_steps.append(\n",
    "                f'Tool: {action.tool}, input: {action.input}\\n'\n",
    "                f'Output: {action.log}'\n",
    "            )\n",
    "    return '\\n---\\n'.join(research_steps)\n",
    "\n",
    "oracle = (\n",
    "    {\n",
    "        'input': lambda x: x['input'],\n",
    "        'chat_history': lambda x: x['chat_history'],\n",
    "        'scratchpad': lambda x: create_scratchpad(\n",
    "            intermediate_steps=x['intermediate_steps']\n",
    "        )\n",
    "    }\n",
    "    | prompt\n",
    "    | llm.bind_tools(tools, tool_choice='any')\n",
    ")"
   ]
  },
  {
   "cell_type": "code",
   "execution_count": 11,
   "id": "f11c9d58",
   "metadata": {},
   "outputs": [
    {
     "data": {
      "text/plain": [
       "AIMessage(content='', additional_kwargs={'tool_calls': [{'id': 'call_B3aw7fXNJVRWee8w0025TXLk', 'function': {'arguments': '{\"query\": \"Bluesky app overview\", \"search_depth\": \"advanced\"}', 'name': 'tavily_search'}, 'type': 'function'}, {'id': 'call_9v91H4wiGwLFSP3JQtchmhSt', 'function': {'arguments': '{\"query\": \"Bluesky app\"}', 'name': 'retrieve'}, 'type': 'function'}], 'refusal': None}, response_metadata={'token_usage': {'completion_tokens': 57, 'prompt_tokens': 1489, 'total_tokens': 1546, 'completion_tokens_details': {'accepted_prediction_tokens': 0, 'audio_tokens': 0, 'reasoning_tokens': 0, 'rejected_prediction_tokens': 0}, 'prompt_tokens_details': {'audio_tokens': 0, 'cached_tokens': 0}}, 'model_name': 'gpt-4o-2024-08-06', 'system_fingerprint': 'fp_a288987b44', 'finish_reason': 'tool_calls', 'logprobs': None}, id='run--ed2df573-ce54-42c8-a498-66b41fbd56de-0', tool_calls=[{'name': 'tavily_search', 'args': {'query': 'Bluesky app overview', 'search_depth': 'advanced'}, 'id': 'call_B3aw7fXNJVRWee8w0025TXLk', 'type': 'tool_call'}, {'name': 'retrieve', 'args': {'query': 'Bluesky app'}, 'id': 'call_9v91H4wiGwLFSP3JQtchmhSt', 'type': 'tool_call'}], usage_metadata={'input_tokens': 1489, 'output_tokens': 57, 'total_tokens': 1546, 'input_token_details': {'audio': 0, 'cache_read': 0}, 'output_token_details': {'audio': 0, 'reasoning': 0}})"
      ]
     },
     "execution_count": 11,
     "metadata": {},
     "output_type": "execute_result"
    }
   ],
   "source": [
    "inputs = {\n",
    "    'input': 'tell me something about the bluesky app',\n",
    "    'chat_history': [],\n",
    "    'intermediate_steps': []\n",
    "}\n",
    "out = oracle.invoke(inputs)\n",
    "out"
   ]
  },
  {
   "cell_type": "code",
   "execution_count": 12,
   "id": "d045a1ea",
   "metadata": {},
   "outputs": [
    {
     "data": {
      "text/plain": [
       "'tavily_search'"
      ]
     },
     "execution_count": 12,
     "metadata": {},
     "output_type": "execute_result"
    }
   ],
   "source": [
    "out.tool_calls[0]['name']"
   ]
  },
  {
   "cell_type": "code",
   "execution_count": 13,
   "id": "40e993ed",
   "metadata": {},
   "outputs": [
    {
     "data": {
      "text/plain": [
       "{'query': 'Bluesky app overview', 'search_depth': 'advanced'}"
      ]
     },
     "execution_count": 13,
     "metadata": {},
     "output_type": "execute_result"
    }
   ],
   "source": [
    "out.tool_calls[0]['args']"
   ]
  },
  {
   "cell_type": "code",
   "execution_count": 14,
   "id": "f70326fb",
   "metadata": {},
   "outputs": [],
   "source": [
    "def run_oracle(state: list):\n",
    "    print('run_oracle')\n",
    "    print(f\"intermediate_steps: {state['intermediate_steps']}\")\n",
    "    out = oracle.invoke(state)\n",
    "    tool_name = out.tool_calls[0]['name']\n",
    "    tool_args = out.tool_calls[0]['args']\n",
    "    action_out = AgentAction(\n",
    "        tool=tool_name,\n",
    "        tool_input=tool_args,\n",
    "        log='TBD'\n",
    "    )\n",
    "    return {\n",
    "        'intermediate_steps': [action_out]\n",
    "    }\n",
    "\n",
    "def router(state: list):\n",
    "    # return the tool name to use\n",
    "    if isinstance(state['intermediate_steps'], list):\n",
    "        return state['intermediate_steps'][-1].tool\n",
    "    else:\n",
    "        # if bad format is output go to final answer\n",
    "        print('Router invalid format')\n",
    "        return 'final_answer'"
   ]
  },
  {
   "cell_type": "code",
   "execution_count": 15,
   "id": "f184f93f",
   "metadata": {},
   "outputs": [],
   "source": [
    "tool_str_to_func = {\n",
    "    'tavily_search': web_search,\n",
    "    'retrieve': retrieve,\n",
    "    'final_answer': final_answer\n",
    "}\n",
    "\n",
    "def run_tool(state:list):\n",
    "    tool_name = state['intermediate_steps'][-1].tool\n",
    "    tool_args = state['intermediate_steps'][-1].tool_input\n",
    "    print(f'{tool_name}.invoke(input={tool_args})')\n",
    "    # run tool\n",
    "    out = tool_str_to_func[tool_name].invoke(input=tool_args)\n",
    "    action_out = AgentAction(\n",
    "        tool=tool_name,\n",
    "        tool_input=tool_args,\n",
    "        log=str(out)\n",
    "    )\n",
    "    return {\n",
    "        'intermediate_steps': [action_out]\n",
    "    }"
   ]
  },
  {
   "cell_type": "markdown",
   "id": "746dcfaa",
   "metadata": {},
   "source": [
    "### Defining graph"
   ]
  },
  {
   "cell_type": "code",
   "execution_count": 16,
   "id": "0a97eae7",
   "metadata": {},
   "outputs": [],
   "source": [
    "from langgraph.graph import StateGraph, END\n",
    "\n",
    "graph = StateGraph(AgentState)\n",
    "\n",
    "graph.add_node('oracle', run_oracle)\n",
    "graph.add_node('tavily_search', run_tool)\n",
    "graph.add_node('retrieve', run_tool)\n",
    "graph.add_node('final_answer', run_tool)\n",
    "\n",
    "graph.set_entry_point(\"oracle\")\n",
    "\n",
    "graph.add_conditional_edges(\n",
    "    source='oracle',\n",
    "    path=router #function to determine which node is called\n",
    ")\n",
    "\n",
    "# create edges from each tool back to the oracle\n",
    "for tool_obj in tools:\n",
    "    if tool_obj.name != 'final_answer':\n",
    "        graph.add_edge(tool_obj.name, 'oracle')\n",
    "\n",
    "# if anything does to final answer, it must then move to END\n",
    "graph.add_edge('final_answer', END)\n",
    "\n",
    "runnable = graph.compile()"
   ]
  },
  {
   "cell_type": "code",
   "execution_count": 17,
   "id": "06183d6a",
   "metadata": {},
   "outputs": [
    {
     "data": {
      "image/png": "[encoded data removed]",
      "text/plain": [
       "<IPython.core.display.Image object>"
      ]
     },
     "execution_count": 17,
     "metadata": {},
     "output_type": "execute_result"
    }
   ],
   "source": [
    "from IPython.display import Image\n",
    "\n",
    "Image(runnable.get_graph().draw_png())"
   ]
  }
 ],
 "metadata": {
  "kernelspec": {
   "display_name": "ml",
   "language": "python",
   "name": "python3"
  },
  "language_info": {
   "codemirror_mode": {
    "name": "ipython",
    "version": 3
   },
   "file_extension": ".py",
   "mimetype": "text/x-python",
   "name": "python",
   "nbconvert_exporter": "python",
   "pygments_lexer": "ipython3",
   "version": "3.12.0"
  }
 },
 "nbformat": 4,
 "nbformat_minor": 5
}
